{
 "cells": [
  {
   "cell_type": "markdown",
   "metadata": {
    "id": "xf052Ox8zVwD"
   },
   "source": [
    "# Spotify Top 100 Songs\n",
    "\n",
    "### Overview:\n",
    "In this study, we will use data sources containing top song information [*Insert year range once confirmed*] according to **Spotify's Top 100 Songs** list along with other data sources containing awards and artist information to construct a machine learning model. The goal of the project is to form a machine learning model to make predictions on how new songs will perform on Spotify Top Song charts.\n",
    "</br></br>\n",
    "\n",
    "---\n",
    "</br>\n",
    "\n",
    "*Maybe explain here the model, data sources used, details/overview, etc.. once established*\n",
    "\n",
    "</br>\n",
    "\n",
    "---\n",
    "\n",
    "### Group Members\n",
    "* Jaquan Jones\n",
    "* Marie Karibyan\n",
    "* Hagop (Christian) Arabian\n",
    "* Nicol Barrios\n",
    "* Ani Movsesian\n",
    
   ]
  },
  {
   "cell_type": "markdown",
   "metadata": {
    "id": "2BITeRNYGp9e"
   },
   "source": [
    "\n",
    "* Link to Spotify Top Song Data set\n",
    "\n",
    "https://www.kaggle.com/leonardopena/top-spotify-songs-from-20102019-by-year?select=top10s.csv"
   ]
  },
  {
   "cell_type": "code",
   "execution_count": 59,
   "metadata": {
    "id": "yf4LUDT8v9td"
   },
   "outputs": [],
   "source": [
    "import os\n",
    "import re\n",
    "import matplotlib.pyplot as plt\n",
    "import numpy as np\n",
    "import pandas as pd\n",
    "\n",
    "from numpy import random\n",
    "from sklearn import preprocessing\n",
    "from sklearn.model_selection import train_test_split\n",
    "from sklearn.neighbors import KNeighborsClassifier, KNeighborsRegressor\n",
    "from sklearn.metrics import accuracy_score \n",
    "from sklearn.linear_model import LogisticRegression\n",
    "from sklearn.tree import DecisionTreeClassifier\n",
    "\n",
    "\n",
    "pd.set_option('display.max_rows', 500)\n",
    "df = pd.read_csv(\"./datasets/tracks.csv\")"
   ]
  },
  {
   "cell_type": "code",
   "execution_count": 32,
   "metadata": {},
   "outputs": [
    {
     "name": "stdout",
     "output_type": "stream",
     "text": [
      "                            id                                 name  \\\n",
      "0       35iwgR4jXetI318WEWsa1Q                                Carve   \n",
      "1       021ht4sdgPcrDgSk7JTbKY  Capítulo 2.16 - Banquero Anarquista   \n",
      "2       07A5yehtSnoedViJAZkNnc   Vivo para Quererte - Remasterizado   \n",
      "3       08FmqUhxtyLTn6pAh6bk45        El Prisionero - Remasterizado   \n",
      "4       08y9GfoqCWfOGsKdwojr5e                  Lady of the Evening   \n",
      "...                        ...                                  ...   \n",
      "586667  5rgu12WBIHQtvej2MdHSH0                                  云与海   \n",
      "586668  0NuWgxEp51CutD2pJoF4OM                                blind   \n",
      "586669  27Y1N4Q4U3EfDU5Ubw8ws2            What They'll Say About Us   \n",
      "586670  45XJsGpFTyzbzeWK8VzR8S                      A Day At A Time   \n",
      "586671  5Ocn6dZ3BJFPWh4ylwFXtn                     Mar de Emociones   \n",
      "\n",
      "        popularity  duration_ms  explicit                          artists  \\\n",
      "0                6       126903         0                          ['Uli']   \n",
      "1                0        98200         0              ['Fernando Pessoa']   \n",
      "2                0       181640         0              ['Ignacio Corsini']   \n",
      "3                0       176907         0              ['Ignacio Corsini']   \n",
      "4                0       163080         0                  ['Dick Haymes']   \n",
      "...            ...          ...       ...                              ...   \n",
      "586667          50       258267         0                      ['阿YueYue']   \n",
      "586668          72       153293         0                   ['ROLE MODEL']   \n",
      "586669          70       187601         0                      ['FINNEAS']   \n",
      "586670          58       142003         0  ['Gentle Bones', 'Clara Benin']   \n",
      "586671          38       214360         0                    ['Afrosound']   \n",
      "\n",
      "                                               id_artists release_date  \\\n",
      "0                              ['45tIt06XoI0Iio4LBEVpls']   1922-02-22   \n",
      "1                              ['14jtPCOoNZwquk5wd9DxrY']   1922-06-01   \n",
      "2                              ['5LiOoJbxVSAMkBS2fUm3X2']   1922-03-21   \n",
      "3                              ['5LiOoJbxVSAMkBS2fUm3X2']   1922-03-21   \n",
      "4                              ['3BiJGZsyX9sJchTqcSA7Su']         1922   \n",
      "...                                                   ...          ...   \n",
      "586667                         ['1QLBXKM5GCpyQQSVMNZqrZ']   2020-09-26   \n",
      "586668                         ['1dy5WNgIKQU6ezkpZs4y8z']   2020-10-21   \n",
      "586669                         ['37M5pPGs6V1fchFJSgCguX']   2020-09-02   \n",
      "586670  ['4jGPdu95icCKVF31CcFKbS', '5ebPSE9YI5aLeZ1Z2g...   2021-03-05   \n",
      "586671                         ['0i4Qda0k4nf7jnNHmSNpYv']   2015-07-01   \n",
      "\n",
      "        danceability  energy  key  loudness  mode  speechiness  acousticness  \\\n",
      "0              0.645  0.4450    0   -13.338     1       0.4510         0.674   \n",
      "1              0.695  0.2630    0   -22.136     1       0.9570         0.797   \n",
      "2              0.434  0.1770    1   -21.180     1       0.0512         0.994   \n",
      "3              0.321  0.0946    7   -27.961     1       0.0504         0.995   \n",
      "4              0.402  0.1580    3   -16.900     0       0.0390         0.989   \n",
      "...              ...     ...  ...       ...   ...          ...           ...   \n",
      "586667         0.560  0.5180    0    -7.471     0       0.0292         0.785   \n",
      "586668         0.765  0.6630    0    -5.223     1       0.0652         0.141   \n",
      "586669         0.535  0.3140    7   -12.823     0       0.0408         0.895   \n",
      "586670         0.696  0.6150   10    -6.212     1       0.0345         0.206   \n",
      "586671         0.686  0.7230    6    -7.067     1       0.0363         0.105   \n",
      "\n",
      "        instrumentalness  liveness  valence    tempo  time_signature  \n",
      "0               0.744000    0.1510   0.1270  104.851               3  \n",
      "1               0.000000    0.1480   0.6550  102.009               1  \n",
      "2               0.021800    0.2120   0.4570  130.418               5  \n",
      "3               0.918000    0.1040   0.3970  169.980               3  \n",
      "4               0.130000    0.3110   0.1960  103.220               4  \n",
      "...                  ...       ...      ...      ...             ...  \n",
      "586667          0.000000    0.0648   0.2110  131.896               4  \n",
      "586668          0.000297    0.0924   0.6860  150.091               4  \n",
      "586669          0.000150    0.0874   0.0663  145.095               4  \n",
      "586670          0.000003    0.3050   0.4380   90.029               4  \n",
      "586671          0.000000    0.2640   0.9750  112.204               4  \n",
      "\n",
      "[586672 rows x 20 columns]\n"
     ]
    }
   ],
   "source": [
    "print(df)"
   ]
  },
  {
   "cell_type": "code",
   "execution_count": 62,
   "metadata": {
    "scrolled": true
   },
   "outputs": [
    {
     "name": "stdout",
     "output_type": "stream",
     "text": [
      "df.columns => ['id', 'name', 'popularity', 'duration_ms', 'explicit', 'artists', 'id_artists', 'release_date', 'danceability', 'energy', 'key', 'loudness', 'mode', 'speechiness', 'acousticness', 'instrumentalness', 'liveness', 'valence', 'tempo', 'time_signature']\n",
      "\n",
      "df.shape => (586672, 20)\n",
      "\n",
      "filtered_df[\"release_date\"] => 39501    2008-02-11\n",
      "39511    2020-03-13\n",
      "39517    2008-02-11\n",
      "39521    2008-02-11\n",
      "39529    2018-05-04\n",
      "            ...    \n",
      "586667   2020-09-26\n",
      "586668   2020-10-21\n",
      "586669   2020-09-02\n",
      "586670   2021-03-05\n",
      "586671   2015-07-01\n",
      "Name: release_date, Length: 212304, dtype: datetime64[ns]\n",
      "\n",
      "filtered_df.shape => (212304, 20)\n",
      "\n"
     ]
    }
   ],
   "source": [
    "print(f'df.columns => {list(df)}\\n')\n",
    "print(f'df.shape => {df.shape}\\n')\n",
    "\n",
    "df['release_date'] = pd.to_datetime(df['release_date'])\n",
    "# filter by release_date\n",
    "# Note: release_date is considered a qualitative feature e.g. 2020-09-26\n",
    "filtered_df = df.loc[(df['release_date'] >= '2000-01-01')]\n",
    "print(f'filtered_df[\"release_date\"] => {filtered_df[\"release_date\"]}\\n')\n",
    "# print(f'filtered_df => {filtered_df[\"release_date\"].head(500)}')\n",
    "print(f'filtered_df.shape => {filtered_df.shape}\\n')\n"
   ]
  },
  {
   "cell_type": "code",
   "execution_count": 68,
   "metadata": {},
   "outputs": [
    {
     "name": "stdout",
     "output_type": "stream",
     "text": [
      "numerical_features => ['popularity', 'duration_ms', 'explicit', 'danceability', 'energy', 'key', 'loudness', 'mode', 'speechiness', 'acousticness', 'instrumentalness', 'liveness', 'valence', 'tempo', 'time_signature']\n",
      "\n"
     ]
    }
   ],
   "source": [
    "# Remove qualitative features AND release_date \n",
    "# or else error: The DType <class 'numpy.dtype[datetime64]'> could not be promoted by <class 'numpy.dtype[float64]'>\n",
    "# Note: select_dtypes will choose only categorical types\n",
    "numerical_features = filtered_df.columns.drop(['release_date'] + list(filtered_df.select_dtypes(include=[object])))\n",
    "print(f'numerical_features => {list(numerical_features)}\\n')"
   ]
  },
  {
   "cell_type": "code",
   "execution_count": 69,
   "metadata": {},
   "outputs": [
    {
     "name": "stdout",
     "output_type": "stream",
     "text": [
      "X.columns => Index(['popularity', 'duration_ms', 'explicit', 'danceability', 'energy',\n",
      "       'key', 'loudness', 'mode', 'speechiness', 'acousticness',\n",
      "       'instrumentalness', 'liveness', 'valence', 'tempo', 'time_signature'],\n",
      "      dtype='object')\n",
      "X.shape => (212304, 15)\n"
     ]
    }
   ],
   "source": [
    "X = filtered_df[list(numerical_features)]  \n",
    "print(f'X.columns => {X.columns}')\n",
    "print(f'X.shape => {X.shape}')\n",
    "y = filtered_df['popularity']\n",
    "\n",
    "X_train, X_test, y_train, y_test = train_test_split(X, y, test_size=0.25, random_state=4)\n"
   ]
  },
  {
   "cell_type": "code",
   "execution_count": 75,
   "metadata": {},
   "outputs": [
    {
     "name": "stderr",
     "output_type": "stream",
     "text": [
      "/home/ani/.local/lib/python3.8/site-packages/sklearn/base.py:441: UserWarning: X does not have valid feature names, but KNeighborsClassifier was fitted with feature names\n",
      "  warnings.warn(\n"
     ]
    },
    {
     "name": "stdout",
     "output_type": "stream",
     "text": [
      "knn accuracy => 0.04435149596804582\n",
      "knn accurately predicted records => 2354\n"
     ]
    }
   ],
   "source": [
    "k = 50\n",
    "knn = KNeighborsClassifier(n_neighbors=k)\n",
    "knn.fit(X_train, y_train)\n",
    "y_predict_knn = knn.predict(X_test)\n",
    "print(f'knn accuracy => {accuracy_score(y_test, y_predict_knn)}')\n",
    "print(f'knn accurately predicted records => {accuracy_score(y_test, y_predict_knn, normalize=False)}')"
   ]
  },
  {
   "cell_type": "code",
   "execution_count": 76,
   "metadata": {},
   "outputs": [
    {
     "name": "stdout",
     "output_type": "stream",
     "text": [
      "dt accuracy => 0.9999623181852438\n",
      "dt accurately predicted records => 53074\n"
     ]
    }
   ],
   "source": [
    "dt = DecisionTreeClassifier(random_state=5)\n",
    "dt.fit(X_train, y_train)\n",
    "y_predict_dt = dt.predict(X_test)\n",
    "print(f'dt accuracy => {accuracy_score(y_test, y_predict_dt)}')\n",
    "print(f'dt accurately predicted records => {accuracy_score(y_test, y_predict_dt, normalize=False)}')"
   ]
  },
  {
   "cell_type": "code",
   "execution_count": 78,
   "metadata": {},
   "outputs": [
    {
     "name": "stdout",
     "output_type": "stream",
     "text": [
      "lr accuracy => 0.042316677971211095\n"
     ]
    },
    {
     "name": "stderr",
     "output_type": "stream",
     "text": [
      "/home/ani/.local/lib/python3.8/site-packages/sklearn/linear_model/_logistic.py:814: ConvergenceWarning: lbfgs failed to converge (status=1):\n",
      "STOP: TOTAL NO. of ITERATIONS REACHED LIMIT.\n",
      "\n",
      "Increase the number of iterations (max_iter) or scale the data as shown in:\n",
      "    https://scikit-learn.org/stable/modules/preprocessing.html\n",
      "Please also refer to the documentation for alternative solver options:\n",
      "    https://scikit-learn.org/stable/modules/linear_model.html#logistic-regression\n",
      "  n_iter_i = _check_optimize_result(\n"
     ]
    }
   ],
   "source": [
    "lr = LogisticRegression(max_iter=100) # default 1000, failed to converge\n",
    "lr.fit(X_train, y_train)\n",
    "y_predict_lr = lr.predict(X_test)\n",
    "print(f'lr accuracy => {accuracy_score(y_test, y_predict_lr)}')"
   ]
  },
  {
   "cell_type": "code",
   "execution_count": null,
   "metadata": {},
   "outputs": [],
   "source": []
  }
 ],
 "metadata": {
  "colab": {
   "name": "CS4661-Final-Project.ipynb",
   "provenance": []
  },
  "kernelspec": {
   "display_name": "Python 3 (ipykernel)",
   "language": "python",
   "name": "python3"
  },
  "language_info": {
   "codemirror_mode": {
    "name": "ipython",
    "version": 3
   },
   "file_extension": ".py",
   "mimetype": "text/x-python",
   "name": "python",
   "nbconvert_exporter": "python",
   "pygments_lexer": "ipython3",
   "version": "3.8.5"
  }
 },
 "nbformat": 4,
 "nbformat_minor": 1
}
